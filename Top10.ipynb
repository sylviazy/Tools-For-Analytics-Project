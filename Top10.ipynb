{
 "cells": [
  {
   "cell_type": "code",
   "execution_count": null,
   "metadata": {},
   "outputs": [],
   "source": [
    "# read dataframe\n",
    "import pandas as pd\n",
    "import numpy as np\n",
    "\n",
    "file = '311_Service_Requests_2020.csv'\n",
    "df = pd.read_csv(file)"
   ]
  },
  {
   "cell_type": "code",
   "execution_count": null,
   "metadata": {},
   "outputs": [],
   "source": [
    "#Cleaning NA\n",
    "df = df[df['Incident Zip'].notna()]\n",
    "#Changing Zip Code's Type from Float to String\n",
    "df['Incident Zip'] = df['Incident Zip'].astype(int)\n",
    "df['Incident Zip'] = df['Incident Zip'].astype(str)"
   ]
  }
 ],
 "metadata": {
  "language_info": {
   "name": "plaintext"
  },
  "orig_nbformat": 4
 },
 "nbformat": 4,
 "nbformat_minor": 2
}
