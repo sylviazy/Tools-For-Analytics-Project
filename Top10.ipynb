{
 "cells": [
  {
   "cell_type": "code",
   "execution_count": null,
   "metadata": {},
   "outputs": [],
   "source": [
    "# read dataframe\n",
    "import pandas as pd\n",
    "import numpy as np\n",
    "\n",
    "file = '311_Service_Requests_2020.csv'\n",
    "df = pd.read_csv(file)"
   ]
  },
  {
   "cell_type": "code",
   "execution_count": null,
   "metadata": {},
   "outputs": [],
   "source": [
    "#Cleaning NA\n",
    "df = df[df['Incident Zip'].notna()]\n",
    "#Changing Zip Code's Type from Float to String\n",
    "df['Incident Zip'] = df['Incident Zip'].astype(int)\n",
    "df['Incident Zip'] = df['Incident Zip'].astype(str)"
   ]
  },
  {
   "cell_type": "code",
   "execution_count": null,
   "metadata": {},
   "outputs": [],
   "source": [
    "# choose my area\n",
    "chosen_zip = '10036'\n",
    "df = df[df['Incident Zip'] == chosen_zip]\n",
    "df"
   ]
  },
  {
   "cell_type": "code",
   "execution_count": null,
   "metadata": {},
   "outputs": [],
   "source": [
    "# get top 10 types of calls and calculate total incidents\n",
    "top10 = df.groupby('Complaint Type').size().reset_index(name='Counts').sort_values(by='Counts', ascending=False)\n",
    "top10 = top10.head(10).reset_index(drop=True)\n",
    "top10"
   ]
  }
 ],
 "metadata": {
  "language_info": {
   "name": "plaintext"
  },
  "orig_nbformat": 4
 },
 "nbformat": 4,
 "nbformat_minor": 2
}
